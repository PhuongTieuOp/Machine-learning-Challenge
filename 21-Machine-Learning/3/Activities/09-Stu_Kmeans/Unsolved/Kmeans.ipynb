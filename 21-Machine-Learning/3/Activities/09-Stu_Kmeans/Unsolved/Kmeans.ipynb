{
  "nbformat": 4,
  "nbformat_minor": 0,
  "metadata": {
    "kernelspec": {
      "display_name": "Python [default]",
      "language": "python",
      "name": "python3"
    },
    "language_info": {
      "codemirror_mode": {
        "name": "ipython",
        "version": 3
      },
      "file_extension": ".py",
      "mimetype": "text/x-python",
      "name": "python",
      "nbconvert_exporter": "python",
      "pygments_lexer": "ipython3",
      "version": "3.6.1"
    },
    "colab": {
      "name": "Kmeans.ipynb",
      "provenance": [],
      "collapsed_sections": []
    }
  },
  "cells": [
    {
      "cell_type": "code",
      "metadata": {
        "collapsed": true,
        "id": "Pi8ITzTYwl3A"
      },
      "source": [
        "# Dependencies\n",
        "import matplotlib.pyplot as plt\n",
        "import numpy as np"
      ],
      "execution_count": null,
      "outputs": []
    },
    {
      "cell_type": "code",
      "metadata": {
        "collapsed": true,
        "id": "CAyznxIAwl3B"
      },
      "source": [
        "# Create dummy data\n",
        "from sklearn.datasets import make_blobs\n",
        "\n",
        "X, _ = make_blobs(n_samples=500, centers=6,\n",
        "                            cluster_std=0.70, random_state=0)"
      ],
      "execution_count": null,
      "outputs": []
    },
    {
      "cell_type": "code",
      "metadata": {
        "id": "R5lmYRlOwl3B"
      },
      "source": [
        "# Plot and show scatter"
      ],
      "execution_count": null,
      "outputs": []
    },
    {
      "cell_type": "code",
      "metadata": {
        "collapsed": true,
        "id": "Ga0dATJSwl3C"
      },
      "source": [
        "# Create a kmeans model using k = 12\n",
        "from sklearn.cluster import KMeans\n",
        "\n",
        "\n",
        "# Create a kmeans model using k = 12\n",
        "\n",
        "\n",
        "# Use the data to predict the clusters\n",
        "# save the predictions as `predicted_clusters`"
      ],
      "execution_count": null,
      "outputs": []
    },
    {
      "cell_type": "code",
      "metadata": {
        "id": "miKVclquwl3C"
      },
      "source": [
        "# Plot the clusters\n",
        "plt.scatter(X[:, 0], X[:, 1], c=predicted_clusters, s=50, cmap='viridis')\n",
        "plt.show()"
      ],
      "execution_count": null,
      "outputs": []
    },
    {
      "cell_type": "code",
      "metadata": {
        "collapsed": true,
        "id": "0InL0UTRwl3D"
      },
      "source": [
        "# Bonus\n",
        "# Print the cluster centers and cluster labels\n",
        "# YOUR CODE HERE\n",
        "centers = kmeans.cluster_centers_\n",
        "labels = kmeans.labels_"
      ],
      "execution_count": null,
      "outputs": []
    },
    {
      "cell_type": "code",
      "metadata": {
        "id": "LDzVoqyxwl3D"
      },
      "source": [
        "plt.scatter(X[:, 0], X[:, 1], c=labels, s=50, cmap='viridis')\n",
        "plt.scatter(centers[:, 0], centers[:, 1], c='black', s=200, alpha=0.5)\n",
        "plt.show()"
      ],
      "execution_count": null,
      "outputs": []
    }
  ]
}